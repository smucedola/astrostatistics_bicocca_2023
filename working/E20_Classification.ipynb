{
 "cells": [
  {
   "cell_type": "markdown",
   "id": "5f86b9d9",
   "metadata": {},
   "source": [
    "## GW detection"
   ]
  },
  {
   "cell_type": "markdown",
   "id": "cfc95290",
   "metadata": {},
   "source": [
    "I downloaded data from [this file](https://github.com/dgerosa/pdetclassifier/releases/download/v0.2/sample_2e7_design_precessing_higherordermodes_3detectors.h5), now let's classify this dataset"
   ]
  },
  {
   "cell_type": "code",
   "execution_count": 57,
   "id": "7cf3019c",
   "metadata": {},
   "outputs": [],
   "source": [
    "import h5py\n",
    "import numpy as np\n",
    "import matplotlib.pyplot as plt"
   ]
  },
  {
   "cell_type": "code",
   "execution_count": 58,
   "id": "52f9de9c",
   "metadata": {},
   "outputs": [],
   "source": [
    "f = h5py.File('../astroML_data/sample_2e7_design_precessing_higherordermodes_3detectors.h5', 'r')"
   ]
  },
  {
   "cell_type": "code",
   "execution_count": 59,
   "id": "e0bda0ea",
   "metadata": {},
   "outputs": [
    {
     "data": {
      "text/plain": [
       "['chi1x',\n",
       " 'chi1y',\n",
       " 'chi1z',\n",
       " 'chi2x',\n",
       " 'chi2y',\n",
       " 'chi2z',\n",
       " 'dec',\n",
       " 'det',\n",
       " 'iota',\n",
       " 'mtot',\n",
       " 'psi',\n",
       " 'q',\n",
       " 'ra',\n",
       " 'snr',\n",
       " 'z']"
      ]
     },
     "execution_count": 59,
     "metadata": {},
     "output_type": "execute_result"
    }
   ],
   "source": [
    "list(f.keys())"
   ]
  },
  {
   "cell_type": "code",
   "execution_count": 60,
   "id": "70ee9731",
   "metadata": {},
   "outputs": [
    {
     "data": {
      "text/plain": [
       "array([0.82250949, 1.09323729, 1.30539835, ..., 9.9752885 , 0.92040623,\n",
       "       2.35090701])"
      ]
     },
     "execution_count": 60,
     "metadata": {},
     "output_type": "execute_result"
    }
   ],
   "source": [
    "snr_ds = np.array(f['snr'])\n",
    "snr_ds"
   ]
  },
  {
   "cell_type": "code",
   "execution_count": 61,
   "id": "869159f6",
   "metadata": {},
   "outputs": [],
   "source": [
    "threshold = 12   #snr treshold"
   ]
  },
  {
   "cell_type": "code",
   "execution_count": 62,
   "id": "5515be40",
   "metadata": {},
   "outputs": [
    {
     "name": "stdout",
     "output_type": "stream",
     "text": [
      "[0 0 0 ... 0 0 0]\n"
     ]
    }
   ],
   "source": [
    "det_ds = np.array(f['det'])\n",
    "print(det_ds)"
   ]
  },
  {
   "cell_type": "markdown",
   "id": "5d59ffc3",
   "metadata": {},
   "source": [
    "### Separate sources that are detectable from those that aren't. "
   ]
  },
  {
   "cell_type": "markdown",
   "id": "5968dfc7",
   "metadata": {},
   "source": [
    "We need to define a training set and a validation set of the snr and det"
   ]
  },
  {
   "cell_type": "code",
   "execution_count": 49,
   "id": "c776bbb9",
   "metadata": {},
   "outputs": [],
   "source": [
    "mask = snr_ds < 30 #i decided this threshold to eliminate spurious events\n",
    "det = det_ds[mask]\n",
    "snr = snr_ds[mask]"
   ]
  },
  {
   "cell_type": "code",
   "execution_count": 69,
   "id": "f8c3c48e",
   "metadata": {},
   "outputs": [
    {
     "name": "stdout",
     "output_type": "stream",
     "text": [
      "20000000 18669802\n"
     ]
    }
   ],
   "source": [
    "print(len(det_ds), len(det))"
   ]
  },
  {
   "cell_type": "code",
   "execution_count": 71,
   "id": "ed0602d2",
   "metadata": {},
   "outputs": [
    {
     "data": {
      "image/png": "[encoded data removed]",
      "text/plain": [
       "<Figure size 640x480 with 1 Axes>"
      ]
     },
     "metadata": {},
     "output_type": "display_data"
    }
   ],
   "source": [
    "plt.hist(snr, bins = 1000, histtype = 'step', density=True, label ='data')\n",
    "plt.axvline(12, 0,1, c='k', ls ='--', label = 'threshold')\n",
    "plt.legend();"
   ]
  },
  {
   "cell_type": "code",
   "execution_count": 72,
   "id": "c76c522a",
   "metadata": {},
   "outputs": [],
   "source": [
    "d = {}\n",
    "\n",
    "for l in f.keys():\n",
    "    d[l] = np.array(f[l])[mask]"
   ]
  },
  {
   "cell_type": "code",
   "execution_count": 11,
   "id": "e56edec7",
   "metadata": {},
   "outputs": [
    {
     "name": "stdout",
     "output_type": "stream",
     "text": [
      "{'chi1x': array([-0.3072008 , -0.7347119 , -0.05783062, ..., -0.55825347,\n",
      "        0.08477457, -0.03595039]), 'chi1y': array([ 0.27616489, -0.49849269, -0.70379617, ..., -0.10758872,\n",
      "       -0.04276202,  0.02875862]), 'chi1z': array([-0.43075952, -0.29816229, -0.35451167, ...,  0.06524619,\n",
      "        0.0177192 , -0.1645164 ]), 'chi2x': array([-0.1611142 ,  0.05753236, -0.21553765, ...,  0.3057056 ,\n",
      "        0.14565681, -0.15248288]), 'chi2y': array([-0.09233378, -0.8449919 ,  0.01632286, ..., -0.21248981,\n",
      "        0.47432107,  0.2724531 ]), 'chi2z': array([-0.41464697,  0.01470768,  0.13054284, ..., -0.41204831,\n",
      "        0.74467675,  0.10790771]), 'dec': array([-0.32967056,  0.52673981,  0.3157986 , ..., -0.23687819,\n",
      "        0.10406303, -0.02080332]), 'det': array([0, 0, 0, ..., 0, 0, 0]), 'iota': array([1.80931011, 0.82081964, 2.0082064 , ..., 0.89474102, 1.10206764,\n",
      "       1.96556987]), 'mtot': array([906.80356183,  59.10211181,  44.60275026, ..., 536.49129182,\n",
      "       879.05515228,  39.57130781]), 'psi': array([1.28603101, 0.93430761, 1.5355196 , ..., 1.77629131, 1.31725074,\n",
      "       2.34256192]), 'q': array([0.62478004, 0.98665033, 0.28619935, ..., 0.90998157, 0.2875865 ,\n",
      "       0.55484975]), 'ra': array([-3.11678443,  1.36029119,  0.07997326, ..., -1.63838095,\n",
      "        2.21193248,  2.5495615 ]), 'snr': array([0.82250949, 1.09323729, 1.30539835, ..., 9.9752885 , 0.92040623,\n",
      "       2.35090701]), 'z': array([2.13965943, 2.43870712, 1.86946125, ..., 0.82663958, 3.12559379,\n",
      "       0.90834967])}\n"
     ]
    }
   ],
   "source": [
    "print(d)"
   ]
  },
  {
   "cell_type": "markdown",
   "id": "291f6fed",
   "metadata": {},
   "source": [
    "The most important features are for sure the redshift and the masses, we can show this on a ROC curve"
   ]
  },
  {
   "cell_type": "code",
   "execution_count": 12,
   "id": "8f960f49",
   "metadata": {
    "scrolled": true
   },
   "outputs": [
    {
     "name": "stdout",
     "output_type": "stream",
     "text": [
      "['chi1x', 'chi1y', 'chi1z', 'chi2x', 'chi2y', 'chi2z', 'dec', 'det', 'iota', 'mtot', 'psi', 'q', 'ra', 'snr', 'z']\n"
     ]
    }
   ],
   "source": [
    "# remember to remove the SNR for your complete model! also det!!!\n",
    "ll = list(f.keys())\n",
    "print(ll)"
   ]
  },
  {
   "cell_type": "code",
   "execution_count": 13,
   "id": "c7bc42da",
   "metadata": {},
   "outputs": [
    {
     "name": "stdout",
     "output_type": "stream",
     "text": [
      "['chi1x', 'chi1y', 'chi1z', 'chi2x', 'chi2y', 'chi2z', 'dec', 'iota', 'mtot', 'psi', 'q', 'ra', 'z']\n"
     ]
    }
   ],
   "source": [
    "ll.remove('snr')\n",
    "ll.remove('det')\n",
    "print(ll)"
   ]
  },
  {
   "cell_type": "code",
   "execution_count": 14,
   "id": "661579f9",
   "metadata": {},
   "outputs": [
    {
     "name": "stdout",
     "output_type": "stream",
     "text": [
      "(186699, 13)\n"
     ]
    }
   ],
   "source": [
    "X = np.array([d[l] for l in ll]).T\n",
    "X = X[::100] #downsampling\n",
    "print(X.shape) #all features"
   ]
  },
  {
   "cell_type": "code",
   "execution_count": 15,
   "id": "6b55dd42",
   "metadata": {},
   "outputs": [
    {
     "name": "stdout",
     "output_type": "stream",
     "text": [
      "(186699, 3)\n"
     ]
    }
   ],
   "source": [
    "X_mz = np.array([d['z'], d['mtot'], d['q']]).T\n",
    "X_mz = X_mz[::100] #downsampling\n",
    "print(X_mz.shape) #only redshift and masses"
   ]
  },
  {
   "cell_type": "code",
   "execution_count": 16,
   "id": "ac4f540f",
   "metadata": {
    "scrolled": true
   },
   "outputs": [
    {
     "name": "stdout",
     "output_type": "stream",
     "text": [
      "[0 0 0 ... 1 0 0]\n"
     ]
    }
   ],
   "source": [
    "y = d['det']\n",
    "y = y[::100]\n",
    "print(y)"
   ]
  },
  {
   "cell_type": "code",
   "execution_count": 17,
   "id": "5d536f2f",
   "metadata": {},
   "outputs": [],
   "source": [
    "from sklearn.model_selection import train_test_split\n",
    "\n",
    "X_train, X_test, y_train, y_test = train_test_split(X, y, test_size=0.33, random_state=42)\n",
    "X_train_mz, X_test_mz, y_train_mz, y_test_mz = train_test_split(X_mz, y, test_size=0.33, random_state=42)"
   ]
  },
  {
   "cell_type": "code",
   "execution_count": 18,
   "id": "e6ee26dc",
   "metadata": {},
   "outputs": [
    {
     "data": {
      "text/plain": [
       "(125088, 13)"
      ]
     },
     "execution_count": 18,
     "metadata": {},
     "output_type": "execute_result"
    }
   ],
   "source": [
    "X_train.shape"
   ]
  },
  {
   "cell_type": "code",
   "execution_count": 19,
   "id": "e9503c65",
   "metadata": {},
   "outputs": [
    {
     "data": {
      "text/plain": [
       "(125088,)"
      ]
     },
     "execution_count": 19,
     "metadata": {},
     "output_type": "execute_result"
    }
   ],
   "source": [
    "y_train.shape"
   ]
  },
  {
   "cell_type": "code",
   "execution_count": 20,
   "id": "e12b3e8a",
   "metadata": {},
   "outputs": [],
   "source": [
    "from sklearn.naive_bayes import GaussianNB\n",
    "from sklearn.metrics import roc_curve"
   ]
  },
  {
   "cell_type": "code",
   "execution_count": 21,
   "id": "04265ae8",
   "metadata": {},
   "outputs": [
    {
     "data": {
      "text/html": [
       "<style>#sk-container-id-1 {color: black;background-color: white;}#sk-container-id-1 pre{padding: 0;}#sk-container-id-1 div.sk-toggleable {background-color: white;}#sk-container-id-1 label.sk-toggleable__label {cursor: pointer;display: block;width: 100%;margin-bottom: 0;padding: 0.3em;box-sizing: border-box;text-align: center;}#sk-container-id-1 label.sk-toggleable__label-arrow:before {content: \"▸\";float: left;margin-right: 0.25em;color: #696969;}#sk-container-id-1 label.sk-toggleable__label-arrow:hover:before {color: black;}#sk-container-id-1 div.sk-estimator:hover label.sk-toggleable__label-arrow:before {color: black;}#sk-container-id-1 div.sk-toggleable__content {max-height: 0;max-width: 0;overflow: hidden;text-align: left;background-color: #f0f8ff;}#sk-container-id-1 div.sk-toggleable__content pre {margin: 0.2em;color: black;border-radius: 0.25em;background-color: #f0f8ff;}#sk-container-id-1 input.sk-toggleable__control:checked~div.sk-toggleable__content {max-height: 200px;max-width: 100%;overflow: auto;}#sk-container-id-1 input.sk-toggleable__control:checked~label.sk-toggleable__label-arrow:before {content: \"▾\";}#sk-container-id-1 div.sk-estimator input.sk-toggleable__control:checked~label.sk-toggleable__label {background-color: #d4ebff;}#sk-container-id-1 div.sk-label input.sk-toggleable__control:checked~label.sk-toggleable__label {background-color: #d4ebff;}#sk-container-id-1 input.sk-hidden--visually {border: 0;clip: rect(1px 1px 1px 1px);clip: rect(1px, 1px, 1px, 1px);height: 1px;margin: -1px;overflow: hidden;padding: 0;position: absolute;width: 1px;}#sk-container-id-1 div.sk-estimator {font-family: monospace;background-color: #f0f8ff;border: 1px dotted black;border-radius: 0.25em;box-sizing: border-box;margin-bottom: 0.5em;}#sk-container-id-1 div.sk-estimator:hover {background-color: #d4ebff;}#sk-container-id-1 div.sk-parallel-item::after {content: \"\";width: 100%;border-bottom: 1px solid gray;flex-grow: 1;}#sk-container-id-1 div.sk-label:hover label.sk-toggleable__label {background-color: #d4ebff;}#sk-container-id-1 div.sk-serial::before {content: \"\";position: absolute;border-left: 1px solid gray;box-sizing: border-box;top: 0;bottom: 0;left: 50%;z-index: 0;}#sk-container-id-1 div.sk-serial {display: flex;flex-direction: column;align-items: center;background-color: white;padding-right: 0.2em;padding-left: 0.2em;position: relative;}#sk-container-id-1 div.sk-item {position: relative;z-index: 1;}#sk-container-id-1 div.sk-parallel {display: flex;align-items: stretch;justify-content: center;background-color: white;position: relative;}#sk-container-id-1 div.sk-item::before, #sk-container-id-1 div.sk-parallel-item::before {content: \"\";position: absolute;border-left: 1px solid gray;box-sizing: border-box;top: 0;bottom: 0;left: 50%;z-index: -1;}#sk-container-id-1 div.sk-parallel-item {display: flex;flex-direction: column;z-index: 1;position: relative;background-color: white;}#sk-container-id-1 div.sk-parallel-item:first-child::after {align-self: flex-end;width: 50%;}#sk-container-id-1 div.sk-parallel-item:last-child::after {align-self: flex-start;width: 50%;}#sk-container-id-1 div.sk-parallel-item:only-child::after {width: 0;}#sk-container-id-1 div.sk-dashed-wrapped {border: 1px dashed gray;margin: 0 0.4em 0.5em 0.4em;box-sizing: border-box;padding-bottom: 0.4em;background-color: white;}#sk-container-id-1 div.sk-label label {font-family: monospace;font-weight: bold;display: inline-block;line-height: 1.2em;}#sk-container-id-1 div.sk-label-container {text-align: center;}#sk-container-id-1 div.sk-container {/* jupyter's `normalize.less` sets `[hidden] { display: none; }` but bootstrap.min.css set `[hidden] { display: none !important; }` so we also need the `!important` here to be able to override the default hidden behavior on the sphinx rendered scikit-learn.org. See: https://github.com/scikit-learn/scikit-learn/issues/21755 */display: inline-block !important;position: relative;}#sk-container-id-1 div.sk-text-repr-fallback {display: none;}</style><div id=\"sk-container-id-1\" class=\"sk-top-container\"><div class=\"sk-text-repr-fallback\"><pre>GaussianNB()</pre><b>In a Jupyter environment, please rerun this cell to show the HTML representation or trust the notebook. <br />On GitHub, the HTML representation is unable to render, please try loading this page with nbviewer.org.</b></div><div class=\"sk-container\" hidden><div class=\"sk-item\"><div class=\"sk-estimator sk-toggleable\"><input class=\"sk-toggleable__control sk-hidden--visually\" id=\"sk-estimator-id-1\" type=\"checkbox\" checked><label for=\"sk-estimator-id-1\" class=\"sk-toggleable__label sk-toggleable__label-arrow\">GaussianNB</label><div class=\"sk-toggleable__content\"><pre>GaussianNB()</pre></div></div></div></div></div>"
      ],
      "text/plain": [
       "GaussianNB()"
      ]
     },
     "execution_count": 21,
     "metadata": {},
     "output_type": "execute_result"
    }
   ],
   "source": [
    "clf = GaussianNB()\n",
    "\n",
    "clf.fit(X_train, y_train)"
   ]
  },
  {
   "cell_type": "code",
   "execution_count": 22,
   "id": "2ae4dd23",
   "metadata": {},
   "outputs": [],
   "source": [
    "y_pred = clf.predict(X_test)\n",
    "y_prob = clf.predict_proba(X_test) [:,1] "
   ]
  },
  {
   "cell_type": "code",
   "execution_count": 23,
   "id": "bd74ecb0",
   "metadata": {},
   "outputs": [],
   "source": [
    "clf_mz = GaussianNB()\n",
    "\n",
    "clf_mz.fit(X_train_mz, y_train_mz)\n",
    "\n",
    "y_pred_mz = clf_mz.predict(X_test_mz)\n",
    "y_prob_mz = clf_mz.predict_proba(X_test_mz) [:,1] "
   ]
  },
  {
   "cell_type": "code",
   "execution_count": 24,
   "id": "7296e83a",
   "metadata": {},
   "outputs": [],
   "source": [
    "fpr, tpr, thresh = roc_curve(y_test, y_prob)\n",
    "fpr_mz, tpr_mz, thresh_mz = roc_curve(y_test_mz, y_prob_mz)"
   ]
  },
  {
   "cell_type": "code",
   "execution_count": 25,
   "id": "c912dd28",
   "metadata": {
    "scrolled": false
   },
   "outputs": [
    {
     "data": {
      "image/png": "[encoded data removed]",
      "text/plain": [
       "<Figure size 640x480 with 1 Axes>"
      ]
     },
     "metadata": {},
     "output_type": "display_data"
    }
   ],
   "source": [
    "plt.plot(fpr, tpr, label='13 components  model')\n",
    "plt.plot(fpr_mz, tpr_mz, label='m-z  model')\n",
    "plt.legend()\n",
    "plt.title('ROC curve');"
   ]
  },
  {
   "cell_type": "code",
   "execution_count": 26,
   "id": "064d7917",
   "metadata": {},
   "outputs": [
    {
     "name": "stdout",
     "output_type": "stream",
     "text": [
      "0.9628\n",
      "0.9573\n"
     ]
    }
   ],
   "source": [
    "from scipy.interpolate import interp1d\n",
    "from scipy.integrate import quad\n",
    "from warnings import filterwarnings\n",
    "\n",
    "filterwarnings(\"ignore\")\n",
    "\n",
    "f_ = interp1d(fpr, tpr, 'linear')\n",
    "xgrid = np.linspace(0,1,int(1e3))\n",
    "\n",
    "print('%.4f' % quad(f_, a=0, b=1, limit=50)[0])\n",
    "\n",
    "f_ = interp1d(fpr_mz, tpr_mz, 'linear')\n",
    "print('%.4f' % quad(f_, a=0, b=1, limit=50)[0])"
   ]
  },
  {
   "cell_type": "markdown",
   "id": "33f7ab62",
   "metadata": {},
   "source": [
    "So essentially, all those other components account for about 1%, nonetheless our goal is to maximize the accuracy of our model, which is given by (true positive + true negative / total).\n",
    "\n",
    "Let's calculate this for our two models"
   ]
  },
  {
   "cell_type": "markdown",
   "id": "5b534096",
   "metadata": {},
   "source": [
    "#### Validation on test dataset"
   ]
  },
  {
   "cell_type": "code",
   "execution_count": 27,
   "id": "53bde24a",
   "metadata": {},
   "outputs": [
    {
     "name": "stdout",
     "output_type": "stream",
     "text": [
      "All 13 components\n",
      "completeness test: 0.629\n",
      "contamination test: 0.350\n"
     ]
    }
   ],
   "source": [
    "import sklearn.metrics\n",
    "\n",
    "C = sklearn.metrics.confusion_matrix(y_test, y_pred)\n",
    "\n",
    "tn, fp, fn, tp = C.ravel()\n",
    "\n",
    "print('All 13 components')\n",
    "\n",
    "print('completeness test: %.3f'  % (tp/(tp+fn)))\n",
    "print('contamination test: %.3f' % (fp/(tp+fp)))"
   ]
  },
  {
   "cell_type": "code",
   "execution_count": 28,
   "id": "f440ddf9",
   "metadata": {},
   "outputs": [
    {
     "name": "stdout",
     "output_type": "stream",
     "text": [
      "3 components\n",
      "completeness test: 0.640\n",
      "contamination test: 0.409\n"
     ]
    }
   ],
   "source": [
    "C_mz = sklearn.metrics.confusion_matrix(y_test_mz, y_pred_mz)\n",
    "\n",
    "tn, fp, fn, tp = C_mz.ravel()\n",
    "\n",
    "print('3 components')\n",
    "\n",
    "print(\"completeness test: %.3f\"  % (tp/(tp+fn)))\n",
    "print(\"contamination test: %.3f\" % (fp/(tp+fp)))"
   ]
  },
  {
   "cell_type": "code",
   "execution_count": 29,
   "id": "fbbd1583",
   "metadata": {},
   "outputs": [
    {
     "name": "stdout",
     "output_type": "stream",
     "text": [
      "All 13 components\n",
      "Accuracy: 0.942\n",
      "\n",
      "3 components\n",
      "Accuracy: 0.935\n"
     ]
    }
   ],
   "source": [
    "print('All 13 components')\n",
    "print('Accuracy: %.3f' % np.sum(C.diagonal()/len(y_test)))\n",
    "print()\n",
    "print('3 components')\n",
    "print('Accuracy: %.3f' % np.sum(C_mz.diagonal()/len(y_test)))"
   ]
  },
  {
   "cell_type": "markdown",
   "id": "30b280c4",
   "metadata": {},
   "source": [
    "So the Naive Bayes algorithm is fast and easy but yields a very high contamination (contamination test). It is certainly not the best one."
   ]
  },
  {
   "cell_type": "markdown",
   "id": "0414fb53",
   "metadata": {},
   "source": [
    "### Trying other classifiers\n",
    "By looking at the table in the lecture we expect Kernel Discriminant Analysis (KDA), which is a decision boundary algorithm, to work best. Let's try this out! From now on we will use the full 13 features"
   ]
  },
  {
   "cell_type": "markdown",
   "id": "3c1baf2c",
   "metadata": {},
   "source": [
    "LDA kills kernel with 13 features, if i don't downsample"
   ]
  },
  {
   "cell_type": "code",
   "execution_count": 30,
   "id": "7887fc08",
   "metadata": {},
   "outputs": [
    {
     "data": {
      "text/html": [
       "<style>#sk-container-id-2 {color: black;background-color: white;}#sk-container-id-2 pre{padding: 0;}#sk-container-id-2 div.sk-toggleable {background-color: white;}#sk-container-id-2 label.sk-toggleable__label {cursor: pointer;display: block;width: 100%;margin-bottom: 0;padding: 0.3em;box-sizing: border-box;text-align: center;}#sk-container-id-2 label.sk-toggleable__label-arrow:before {content: \"▸\";float: left;margin-right: 0.25em;color: #696969;}#sk-container-id-2 label.sk-toggleable__label-arrow:hover:before {color: black;}#sk-container-id-2 div.sk-estimator:hover label.sk-toggleable__label-arrow:before {color: black;}#sk-container-id-2 div.sk-toggleable__content {max-height: 0;max-width: 0;overflow: hidden;text-align: left;background-color: #f0f8ff;}#sk-container-id-2 div.sk-toggleable__content pre {margin: 0.2em;color: black;border-radius: 0.25em;background-color: #f0f8ff;}#sk-container-id-2 input.sk-toggleable__control:checked~div.sk-toggleable__content {max-height: 200px;max-width: 100%;overflow: auto;}#sk-container-id-2 input.sk-toggleable__control:checked~label.sk-toggleable__label-arrow:before {content: \"▾\";}#sk-container-id-2 div.sk-estimator input.sk-toggleable__control:checked~label.sk-toggleable__label {background-color: #d4ebff;}#sk-container-id-2 div.sk-label input.sk-toggleable__control:checked~label.sk-toggleable__label {background-color: #d4ebff;}#sk-container-id-2 input.sk-hidden--visually {border: 0;clip: rect(1px 1px 1px 1px);clip: rect(1px, 1px, 1px, 1px);height: 1px;margin: -1px;overflow: hidden;padding: 0;position: absolute;width: 1px;}#sk-container-id-2 div.sk-estimator {font-family: monospace;background-color: #f0f8ff;border: 1px dotted black;border-radius: 0.25em;box-sizing: border-box;margin-bottom: 0.5em;}#sk-container-id-2 div.sk-estimator:hover {background-color: #d4ebff;}#sk-container-id-2 div.sk-parallel-item::after {content: \"\";width: 100%;border-bottom: 1px solid gray;flex-grow: 1;}#sk-container-id-2 div.sk-label:hover label.sk-toggleable__label {background-color: #d4ebff;}#sk-container-id-2 div.sk-serial::before {content: \"\";position: absolute;border-left: 1px solid gray;box-sizing: border-box;top: 0;bottom: 0;left: 50%;z-index: 0;}#sk-container-id-2 div.sk-serial {display: flex;flex-direction: column;align-items: center;background-color: white;padding-right: 0.2em;padding-left: 0.2em;position: relative;}#sk-container-id-2 div.sk-item {position: relative;z-index: 1;}#sk-container-id-2 div.sk-parallel {display: flex;align-items: stretch;justify-content: center;background-color: white;position: relative;}#sk-container-id-2 div.sk-item::before, #sk-container-id-2 div.sk-parallel-item::before {content: \"\";position: absolute;border-left: 1px solid gray;box-sizing: border-box;top: 0;bottom: 0;left: 50%;z-index: -1;}#sk-container-id-2 div.sk-parallel-item {display: flex;flex-direction: column;z-index: 1;position: relative;background-color: white;}#sk-container-id-2 div.sk-parallel-item:first-child::after {align-self: flex-end;width: 50%;}#sk-container-id-2 div.sk-parallel-item:last-child::after {align-self: flex-start;width: 50%;}#sk-container-id-2 div.sk-parallel-item:only-child::after {width: 0;}#sk-container-id-2 div.sk-dashed-wrapped {border: 1px dashed gray;margin: 0 0.4em 0.5em 0.4em;box-sizing: border-box;padding-bottom: 0.4em;background-color: white;}#sk-container-id-2 div.sk-label label {font-family: monospace;font-weight: bold;display: inline-block;line-height: 1.2em;}#sk-container-id-2 div.sk-label-container {text-align: center;}#sk-container-id-2 div.sk-container {/* jupyter's `normalize.less` sets `[hidden] { display: none; }` but bootstrap.min.css set `[hidden] { display: none !important; }` so we also need the `!important` here to be able to override the default hidden behavior on the sphinx rendered scikit-learn.org. See: https://github.com/scikit-learn/scikit-learn/issues/21755 */display: inline-block !important;position: relative;}#sk-container-id-2 div.sk-text-repr-fallback {display: none;}</style><div id=\"sk-container-id-2\" class=\"sk-top-container\"><div class=\"sk-text-repr-fallback\"><pre>LinearDiscriminantAnalysis()</pre><b>In a Jupyter environment, please rerun this cell to show the HTML representation or trust the notebook. <br />On GitHub, the HTML representation is unable to render, please try loading this page with nbviewer.org.</b></div><div class=\"sk-container\" hidden><div class=\"sk-item\"><div class=\"sk-estimator sk-toggleable\"><input class=\"sk-toggleable__control sk-hidden--visually\" id=\"sk-estimator-id-2\" type=\"checkbox\" checked><label for=\"sk-estimator-id-2\" class=\"sk-toggleable__label sk-toggleable__label-arrow\">LinearDiscriminantAnalysis</label><div class=\"sk-toggleable__content\"><pre>LinearDiscriminantAnalysis()</pre></div></div></div></div></div>"
      ],
      "text/plain": [
       "LinearDiscriminantAnalysis()"
      ]
     },
     "execution_count": 30,
     "metadata": {},
     "output_type": "execute_result"
    }
   ],
   "source": [
    "from sklearn.discriminant_analysis import LinearDiscriminantAnalysis as LDA\n",
    "\n",
    "clf = LDA()\n",
    "\n",
    "clf.fit(X_train, y_train)"
   ]
  },
  {
   "cell_type": "code",
   "execution_count": 31,
   "id": "7b7cdcd8",
   "metadata": {},
   "outputs": [],
   "source": [
    "y_pred = clf.predict(X_test)\n",
    "y_prob = clf.predict_proba(X_test) [:,1] "
   ]
  },
  {
   "cell_type": "code",
   "execution_count": 32,
   "id": "69e3e39f",
   "metadata": {
    "scrolled": false
   },
   "outputs": [
    {
     "data": {
      "image/png": "[encoded data removed]",
      "text/plain": [
       "<Figure size 640x480 with 1 Axes>"
      ]
     },
     "metadata": {},
     "output_type": "display_data"
    }
   ],
   "source": [
    "fpr, tpr, thresh = roc_curve(y_test, y_prob)\n",
    "\n",
    "plt.plot(fpr, tpr, label='LDA')\n",
    "plt.legend()\n",
    "plt.title('ROC curve');"
   ]
  },
  {
   "cell_type": "code",
   "execution_count": 33,
   "id": "aaf7b0fd",
   "metadata": {
    "scrolled": true
   },
   "outputs": [
    {
     "name": "stdout",
     "output_type": "stream",
     "text": [
      "0.9586\n"
     ]
    }
   ],
   "source": [
    "from scipy.interpolate import interp1d\n",
    "from scipy.integrate import quad\n",
    "from warnings import filterwarnings\n",
    "\n",
    "filterwarnings(\"ignore\")\n",
    "\n",
    "f_ = interp1d(fpr, tpr, 'linear')\n",
    "xgrid = np.linspace(0,1,int(1e3))\n",
    "\n",
    "print('%.4f' % quad(f_, a=0, b=1, limit=50)[0])"
   ]
  },
  {
   "cell_type": "markdown",
   "id": "f4677c02",
   "metadata": {},
   "source": [
    "#### Validation on test dataset"
   ]
  },
  {
   "cell_type": "code",
   "execution_count": 34,
   "id": "1e65ac28",
   "metadata": {},
   "outputs": [
    {
     "name": "stdout",
     "output_type": "stream",
     "text": [
      "LDA classifier\n",
      "completeness test: 0.048\n",
      "contamination test: 0.237\n"
     ]
    }
   ],
   "source": [
    "import sklearn.metrics\n",
    "\n",
    "C = sklearn.metrics.confusion_matrix(y_test, y_pred)\n",
    "\n",
    "tn, fp, fn, tp = C.ravel()\n",
    "\n",
    "print('LDA classifier')\n",
    "\n",
    "print('completeness test: %.3f'  % (tp/(tp+fn)))\n",
    "print('contamination test: %.3f' % (fp/(tp+fp)))"
   ]
  },
  {
   "cell_type": "code",
   "execution_count": 35,
   "id": "ec034a31",
   "metadata": {
    "scrolled": true
   },
   "outputs": [
    {
     "name": "stdout",
     "output_type": "stream",
     "text": [
      "[[56544    75]\n",
      " [ 4751   241]]\n"
     ]
    }
   ],
   "source": [
    "print(C)"
   ]
  },
  {
   "cell_type": "markdown",
   "id": "eb453150",
   "metadata": {},
   "source": [
    "odd result..."
   ]
  },
  {
   "cell_type": "code",
   "execution_count": 36,
   "id": "e35167c0",
   "metadata": {
    "scrolled": true
   },
   "outputs": [
    {
     "name": "stdout",
     "output_type": "stream",
     "text": [
      "LDA\n",
      "Accuracy: 0.922\n"
     ]
    }
   ],
   "source": [
    "print('LDA')\n",
    "print('Accuracy: %.3f' % np.sum(C.diagonal()/len(y_test)))"
   ]
  },
  {
   "cell_type": "markdown",
   "id": "e7455f39",
   "metadata": {},
   "source": [
    "### Is linearity the problem?\n",
    "Maybe the boundary is not so well defined in the features space, let's try with a quadratic discrimination"
   ]
  },
  {
   "cell_type": "code",
   "execution_count": 73,
   "id": "d8ad5caf",
   "metadata": {},
   "outputs": [
    {
     "data": {
      "text/html": [
       "<style>#sk-container-id-4 {color: black;background-color: white;}#sk-container-id-4 pre{padding: 0;}#sk-container-id-4 div.sk-toggleable {background-color: white;}#sk-container-id-4 label.sk-toggleable__label {cursor: pointer;display: block;width: 100%;margin-bottom: 0;padding: 0.3em;box-sizing: border-box;text-align: center;}#sk-container-id-4 label.sk-toggleable__label-arrow:before {content: \"▸\";float: left;margin-right: 0.25em;color: #696969;}#sk-container-id-4 label.sk-toggleable__label-arrow:hover:before {color: black;}#sk-container-id-4 div.sk-estimator:hover label.sk-toggleable__label-arrow:before {color: black;}#sk-container-id-4 div.sk-toggleable__content {max-height: 0;max-width: 0;overflow: hidden;text-align: left;background-color: #f0f8ff;}#sk-container-id-4 div.sk-toggleable__content pre {margin: 0.2em;color: black;border-radius: 0.25em;background-color: #f0f8ff;}#sk-container-id-4 input.sk-toggleable__control:checked~div.sk-toggleable__content {max-height: 200px;max-width: 100%;overflow: auto;}#sk-container-id-4 input.sk-toggleable__control:checked~label.sk-toggleable__label-arrow:before {content: \"▾\";}#sk-container-id-4 div.sk-estimator input.sk-toggleable__control:checked~label.sk-toggleable__label {background-color: #d4ebff;}#sk-container-id-4 div.sk-label input.sk-toggleable__control:checked~label.sk-toggleable__label {background-color: #d4ebff;}#sk-container-id-4 input.sk-hidden--visually {border: 0;clip: rect(1px 1px 1px 1px);clip: rect(1px, 1px, 1px, 1px);height: 1px;margin: -1px;overflow: hidden;padding: 0;position: absolute;width: 1px;}#sk-container-id-4 div.sk-estimator {font-family: monospace;background-color: #f0f8ff;border: 1px dotted black;border-radius: 0.25em;box-sizing: border-box;margin-bottom: 0.5em;}#sk-container-id-4 div.sk-estimator:hover {background-color: #d4ebff;}#sk-container-id-4 div.sk-parallel-item::after {content: \"\";width: 100%;border-bottom: 1px solid gray;flex-grow: 1;}#sk-container-id-4 div.sk-label:hover label.sk-toggleable__label {background-color: #d4ebff;}#sk-container-id-4 div.sk-serial::before {content: \"\";position: absolute;border-left: 1px solid gray;box-sizing: border-box;top: 0;bottom: 0;left: 50%;z-index: 0;}#sk-container-id-4 div.sk-serial {display: flex;flex-direction: column;align-items: center;background-color: white;padding-right: 0.2em;padding-left: 0.2em;position: relative;}#sk-container-id-4 div.sk-item {position: relative;z-index: 1;}#sk-container-id-4 div.sk-parallel {display: flex;align-items: stretch;justify-content: center;background-color: white;position: relative;}#sk-container-id-4 div.sk-item::before, #sk-container-id-4 div.sk-parallel-item::before {content: \"\";position: absolute;border-left: 1px solid gray;box-sizing: border-box;top: 0;bottom: 0;left: 50%;z-index: -1;}#sk-container-id-4 div.sk-parallel-item {display: flex;flex-direction: column;z-index: 1;position: relative;background-color: white;}#sk-container-id-4 div.sk-parallel-item:first-child::after {align-self: flex-end;width: 50%;}#sk-container-id-4 div.sk-parallel-item:last-child::after {align-self: flex-start;width: 50%;}#sk-container-id-4 div.sk-parallel-item:only-child::after {width: 0;}#sk-container-id-4 div.sk-dashed-wrapped {border: 1px dashed gray;margin: 0 0.4em 0.5em 0.4em;box-sizing: border-box;padding-bottom: 0.4em;background-color: white;}#sk-container-id-4 div.sk-label label {font-family: monospace;font-weight: bold;display: inline-block;line-height: 1.2em;}#sk-container-id-4 div.sk-label-container {text-align: center;}#sk-container-id-4 div.sk-container {/* jupyter's `normalize.less` sets `[hidden] { display: none; }` but bootstrap.min.css set `[hidden] { display: none !important; }` so we also need the `!important` here to be able to override the default hidden behavior on the sphinx rendered scikit-learn.org. See: https://github.com/scikit-learn/scikit-learn/issues/21755 */display: inline-block !important;position: relative;}#sk-container-id-4 div.sk-text-repr-fallback {display: none;}</style><div id=\"sk-container-id-4\" class=\"sk-top-container\"><div class=\"sk-text-repr-fallback\"><pre>QuadraticDiscriminantAnalysis()</pre><b>In a Jupyter environment, please rerun this cell to show the HTML representation or trust the notebook. <br />On GitHub, the HTML representation is unable to render, please try loading this page with nbviewer.org.</b></div><div class=\"sk-container\" hidden><div class=\"sk-item\"><div class=\"sk-estimator sk-toggleable\"><input class=\"sk-toggleable__control sk-hidden--visually\" id=\"sk-estimator-id-4\" type=\"checkbox\" checked><label for=\"sk-estimator-id-4\" class=\"sk-toggleable__label sk-toggleable__label-arrow\">QuadraticDiscriminantAnalysis</label><div class=\"sk-toggleable__content\"><pre>QuadraticDiscriminantAnalysis()</pre></div></div></div></div></div>"
      ],
      "text/plain": [
       "QuadraticDiscriminantAnalysis()"
      ]
     },
     "execution_count": 73,
     "metadata": {},
     "output_type": "execute_result"
    }
   ],
   "source": [
    "from sklearn.discriminant_analysis import QuadraticDiscriminantAnalysis as QDA\n",
    "\n",
    "clf = QDA()\n",
    "\n",
    "clf.fit(X_train, y_train)"
   ]
  },
  {
   "cell_type": "code",
   "execution_count": 74,
   "id": "3fe2dfc8",
   "metadata": {},
   "outputs": [],
   "source": [
    "y_pred = clf.predict(X_test)\n",
    "y_prob = clf.predict_proba(X_test) [:,1] "
   ]
  },
  {
   "cell_type": "code",
   "execution_count": 75,
   "id": "b47e35d3",
   "metadata": {
    "scrolled": false
   },
   "outputs": [
    {
     "data": {
      "image/png": "[encoded data removed]",
      "text/plain": [
       "<Figure size 640x480 with 1 Axes>"
      ]
     },
     "metadata": {},
     "output_type": "display_data"
    }
   ],
   "source": [
    "fpr, tpr, thresh = roc_curve(y_test, y_prob)\n",
    "\n",
    "plt.plot(fpr, tpr, label='QDA')\n",
    "plt.legend()\n",
    "plt.title('ROC curve');"
   ]
  },
  {
   "cell_type": "code",
   "execution_count": 76,
   "id": "381ed9dd",
   "metadata": {
    "scrolled": true
   },
   "outputs": [
    {
     "name": "stdout",
     "output_type": "stream",
     "text": [
      "0.9657\n"
     ]
    }
   ],
   "source": [
    "from scipy.interpolate import interp1d\n",
    "from scipy.integrate import quad\n",
    "from warnings import filterwarnings\n",
    "\n",
    "filterwarnings(\"ignore\")\n",
    "\n",
    "f_ = interp1d(fpr, tpr, 'linear')\n",
    "xgrid = np.linspace(0,1,int(1e3))\n",
    "\n",
    "print('%.4f' % quad(f_, a=0, b=1, limit=50)[0])"
   ]
  },
  {
   "cell_type": "markdown",
   "id": "4ab6946c",
   "metadata": {},
   "source": [
    "#### Validation on test dataset"
   ]
  },
  {
   "cell_type": "code",
   "execution_count": 78,
   "id": "b4389ad1",
   "metadata": {},
   "outputs": [
    {
     "name": "stdout",
     "output_type": "stream",
     "text": [
      "QDA classifier\n",
      "completeness test: 0.689\n",
      "contamination test: 0.372\n"
     ]
    }
   ],
   "source": [
    "import sklearn.metrics\n",
    "\n",
    "C = sklearn.metrics.confusion_matrix(y_test, y_pred)\n",
    "\n",
    "tn, fp, fn, tp = C.ravel()\n",
    "\n",
    "print('QDA classifier')\n",
    "\n",
    "print('completeness test: %.3f'  % (tp/(tp+fn)))\n",
    "print('contamination test: %.3f' % (fp/(tp+fp)))"
   ]
  },
  {
   "cell_type": "code",
   "execution_count": 79,
   "id": "fbe746da",
   "metadata": {
    "scrolled": true
   },
   "outputs": [
    {
     "name": "stdout",
     "output_type": "stream",
     "text": [
      "[[54583  2036]\n",
      " [ 1554  3438]]\n"
     ]
    }
   ],
   "source": [
    "print(C)"
   ]
  },
  {
   "cell_type": "markdown",
   "id": "fe91c709",
   "metadata": {},
   "source": [
    "better but still not perfect"
   ]
  },
  {
   "cell_type": "code",
   "execution_count": 80,
   "id": "ce477059",
   "metadata": {
    "scrolled": true
   },
   "outputs": [
    {
     "name": "stdout",
     "output_type": "stream",
     "text": [
      "QDA\n",
      "Accuracy: 0.942\n"
     ]
    }
   ],
   "source": [
    "print('QDA')\n",
    "print('Accuracy: %.3f' % np.sum(C.diagonal()/len(y_test)))"
   ]
  },
  {
   "cell_type": "markdown",
   "id": "1a1deb38",
   "metadata": {},
   "source": [
    "### Let's try GMMBayes, last time it worked pretty well\n",
    "This is a density estimation scheme based on gaussian mixtures"
   ]
  },
  {
   "cell_type": "code",
   "execution_count": 37,
   "id": "7e512530",
   "metadata": {},
   "outputs": [
    {
     "data": {
      "text/html": [
       "<style>#sk-container-id-3 {color: black;background-color: white;}#sk-container-id-3 pre{padding: 0;}#sk-container-id-3 div.sk-toggleable {background-color: white;}#sk-container-id-3 label.sk-toggleable__label {cursor: pointer;display: block;width: 100%;margin-bottom: 0;padding: 0.3em;box-sizing: border-box;text-align: center;}#sk-container-id-3 label.sk-toggleable__label-arrow:before {content: \"▸\";float: left;margin-right: 0.25em;color: #696969;}#sk-container-id-3 label.sk-toggleable__label-arrow:hover:before {color: black;}#sk-container-id-3 div.sk-estimator:hover label.sk-toggleable__label-arrow:before {color: black;}#sk-container-id-3 div.sk-toggleable__content {max-height: 0;max-width: 0;overflow: hidden;text-align: left;background-color: #f0f8ff;}#sk-container-id-3 div.sk-toggleable__content pre {margin: 0.2em;color: black;border-radius: 0.25em;background-color: #f0f8ff;}#sk-container-id-3 input.sk-toggleable__control:checked~div.sk-toggleable__content {max-height: 200px;max-width: 100%;overflow: auto;}#sk-container-id-3 input.sk-toggleable__control:checked~label.sk-toggleable__label-arrow:before {content: \"▾\";}#sk-container-id-3 div.sk-estimator input.sk-toggleable__control:checked~label.sk-toggleable__label {background-color: #d4ebff;}#sk-container-id-3 div.sk-label input.sk-toggleable__control:checked~label.sk-toggleable__label {background-color: #d4ebff;}#sk-container-id-3 input.sk-hidden--visually {border: 0;clip: rect(1px 1px 1px 1px);clip: rect(1px, 1px, 1px, 1px);height: 1px;margin: -1px;overflow: hidden;padding: 0;position: absolute;width: 1px;}#sk-container-id-3 div.sk-estimator {font-family: monospace;background-color: #f0f8ff;border: 1px dotted black;border-radius: 0.25em;box-sizing: border-box;margin-bottom: 0.5em;}#sk-container-id-3 div.sk-estimator:hover {background-color: #d4ebff;}#sk-container-id-3 div.sk-parallel-item::after {content: \"\";width: 100%;border-bottom: 1px solid gray;flex-grow: 1;}#sk-container-id-3 div.sk-label:hover label.sk-toggleable__label {background-color: #d4ebff;}#sk-container-id-3 div.sk-serial::before {content: \"\";position: absolute;border-left: 1px solid gray;box-sizing: border-box;top: 0;bottom: 0;left: 50%;z-index: 0;}#sk-container-id-3 div.sk-serial {display: flex;flex-direction: column;align-items: center;background-color: white;padding-right: 0.2em;padding-left: 0.2em;position: relative;}#sk-container-id-3 div.sk-item {position: relative;z-index: 1;}#sk-container-id-3 div.sk-parallel {display: flex;align-items: stretch;justify-content: center;background-color: white;position: relative;}#sk-container-id-3 div.sk-item::before, #sk-container-id-3 div.sk-parallel-item::before {content: \"\";position: absolute;border-left: 1px solid gray;box-sizing: border-box;top: 0;bottom: 0;left: 50%;z-index: -1;}#sk-container-id-3 div.sk-parallel-item {display: flex;flex-direction: column;z-index: 1;position: relative;background-color: white;}#sk-container-id-3 div.sk-parallel-item:first-child::after {align-self: flex-end;width: 50%;}#sk-container-id-3 div.sk-parallel-item:last-child::after {align-self: flex-start;width: 50%;}#sk-container-id-3 div.sk-parallel-item:only-child::after {width: 0;}#sk-container-id-3 div.sk-dashed-wrapped {border: 1px dashed gray;margin: 0 0.4em 0.5em 0.4em;box-sizing: border-box;padding-bottom: 0.4em;background-color: white;}#sk-container-id-3 div.sk-label label {font-family: monospace;font-weight: bold;display: inline-block;line-height: 1.2em;}#sk-container-id-3 div.sk-label-container {text-align: center;}#sk-container-id-3 div.sk-container {/* jupyter's `normalize.less` sets `[hidden] { display: none; }` but bootstrap.min.css set `[hidden] { display: none !important; }` so we also need the `!important` here to be able to override the default hidden behavior on the sphinx rendered scikit-learn.org. See: https://github.com/scikit-learn/scikit-learn/issues/21755 */display: inline-block !important;position: relative;}#sk-container-id-3 div.sk-text-repr-fallback {display: none;}</style><div id=\"sk-container-id-3\" class=\"sk-top-container\"><div class=\"sk-text-repr-fallback\"><pre>GMMBayes(n_components=array([4]))</pre><b>In a Jupyter environment, please rerun this cell to show the HTML representation or trust the notebook. <br />On GitHub, the HTML representation is unable to render, please try loading this page with nbviewer.org.</b></div><div class=\"sk-container\" hidden><div class=\"sk-item\"><div class=\"sk-estimator sk-toggleable\"><input class=\"sk-toggleable__control sk-hidden--visually\" id=\"sk-estimator-id-3\" type=\"checkbox\" checked><label for=\"sk-estimator-id-3\" class=\"sk-toggleable__label sk-toggleable__label-arrow\">GMMBayes</label><div class=\"sk-toggleable__content\"><pre>GMMBayes(n_components=array([4]))</pre></div></div></div></div></div>"
      ],
      "text/plain": [
       "GMMBayes(n_components=array([4]))"
      ]
     },
     "execution_count": 37,
     "metadata": {},
     "output_type": "execute_result"
    }
   ],
   "source": [
    "from astroML.classification import GMMBayes\n",
    "\n",
    "clf = GMMBayes(n_components=4)\n",
    "\n",
    "clf.fit(X_train, y_train)"
   ]
  },
  {
   "cell_type": "code",
   "execution_count": 38,
   "id": "9339539e",
   "metadata": {},
   "outputs": [],
   "source": [
    "y_pred = clf.predict(X_test)\n",
    "y_prob = clf.predict_proba(X_test) [:,1] "
   ]
  },
  {
   "cell_type": "code",
   "execution_count": 39,
   "id": "15a98951",
   "metadata": {
    "scrolled": false
   },
   "outputs": [
    {
     "data": {
      "image/png": "[encoded data removed]",
      "text/plain": [
       "<Figure size 640x480 with 1 Axes>"
      ]
     },
     "metadata": {},
     "output_type": "display_data"
    }
   ],
   "source": [
    "fpr, tpr, thresh = roc_curve(y_test, y_prob)\n",
    "\n",
    "plt.plot(fpr, tpr, label='GMMBayes')\n",
    "plt.legend()\n",
    "plt.title('ROC curve');"
   ]
  },
  {
   "cell_type": "code",
   "execution_count": 40,
   "id": "b9056706",
   "metadata": {},
   "outputs": [
    {
     "name": "stdout",
     "output_type": "stream",
     "text": [
      "0.9794\n"
     ]
    }
   ],
   "source": [
    "from scipy.interpolate import interp1d\n",
    "from scipy.integrate import quad\n",
    "from warnings import filterwarnings\n",
    "\n",
    "filterwarnings(\"ignore\")\n",
    "\n",
    "f_ = interp1d(fpr, tpr, 'linear')\n",
    "xgrid = np.linspace(0,1,int(1e3))\n",
    "\n",
    "print('%.4f' % quad(f_, a=0, b=1, limit=50)[0])"
   ]
  },
  {
   "cell_type": "markdown",
   "id": "133811cc",
   "metadata": {},
   "source": [
    "#### Validation on test dataset"
   ]
  },
  {
   "cell_type": "code",
   "execution_count": 41,
   "id": "0d3ad4c5",
   "metadata": {},
   "outputs": [
    {
     "name": "stdout",
     "output_type": "stream",
     "text": [
      "GMM classifier\n",
      "completeness test: 0.778\n",
      "contamination test: 0.309\n"
     ]
    }
   ],
   "source": [
    "import sklearn.metrics\n",
    "\n",
    "C = sklearn.metrics.confusion_matrix(y_test, y_pred)\n",
    "\n",
    "tn, fp, fn, tp = C.ravel()\n",
    "\n",
    "print('GMM classifier')\n",
    "\n",
    "print('completeness test: %.3f'  % (tp/(tp+fn)))\n",
    "print('contamination test: %.3f' % (fp/(tp+fp)))"
   ]
  },
  {
   "cell_type": "code",
   "execution_count": 42,
   "id": "99638247",
   "metadata": {
    "scrolled": true
   },
   "outputs": [
    {
     "name": "stdout",
     "output_type": "stream",
     "text": [
      "[[54882  1737]\n",
      " [ 1108  3884]]\n"
     ]
    }
   ],
   "source": [
    "print(C)"
   ]
  },
  {
   "cell_type": "code",
   "execution_count": 43,
   "id": "55ba95bb",
   "metadata": {},
   "outputs": [
    {
     "name": "stdout",
     "output_type": "stream",
     "text": [
      "GMMBayes\n",
      "Accuracy: 0.954\n"
     ]
    }
   ],
   "source": [
    "print('GMMBayes')\n",
    "print('Accuracy: %.3f' % np.sum(C.diagonal()/len(y_test)))"
   ]
  }
 ],
 "metadata": {
  "kernelspec": {
   "display_name": "Python 3 (ipykernel)",
   "language": "python",
   "name": "python3"
  },
  "language_info": {
   "codemirror_mode": {
    "name": "ipython",
    "version": 3
   },
   "file_extension": ".py",
   "mimetype": "text/x-python",
   "name": "python",
   "nbconvert_exporter": "python",
   "pygments_lexer": "ipython3",
   "version": "3.10.10"
  }
 },
 "nbformat": 4,
 "nbformat_minor": 5
}
