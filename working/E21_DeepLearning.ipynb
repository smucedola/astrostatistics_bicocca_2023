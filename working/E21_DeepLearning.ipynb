{
 "cells": [
  {
   "cell_type": "markdown",
   "id": "513bd718",
   "metadata": {},
   "source": [
    "## Preparing the data"
   ]
  },
  {
   "cell_type": "code",
   "execution_count": 1,
   "id": "d825be35",
   "metadata": {},
   "outputs": [],
   "source": [
    "import numpy as np\n",
    "import matplotlib.pyplot as plt"
   ]
  },
  {
   "cell_type": "code",
   "execution_count": 2,
   "id": "0774407f",
   "metadata": {},
   "outputs": [],
   "source": [
    "data=np.genfromtxt('galaxyquasar.csv', delimiter=',',names=True,usecols=(0,1,2,3,4,6),dtype=float,comments='#')"
   ]
  },
  {
   "cell_type": "code",
   "execution_count": 3,
   "id": "7a8d57a4",
   "metadata": {},
   "outputs": [
    {
     "data": {
      "text/plain": [
       "('u', 'g', 'r', 'i', 'z', 'z1')"
      ]
     },
     "execution_count": 3,
     "metadata": {},
     "output_type": "execute_result"
    }
   ],
   "source": [
    "names = data.dtype.names\n",
    "names"
   ]
  },
  {
   "cell_type": "code",
   "execution_count": 5,
   "id": "360e85b8",
   "metadata": {},
   "outputs": [],
   "source": [
    "data=np.genfromtxt('galaxyquasar.csv', delimiter=',',skip_header=1,usecols=(0,1,2,3,4,6),dtype=float)"
   ]
  },
  {
   "cell_type": "code",
   "execution_count": 6,
   "id": "b0fd8e19",
   "metadata": {},
   "outputs": [
    {
     "data": {
      "text/plain": [
       "array([[18.97213   , 18.53676   , 18.5828    , 18.34936   , 18.29215   ,\n",
       "         0.5228189 ],\n",
       "       [19.24592   , 17.47646   , 16.47817   , 16.04472   , 15.68851   ,\n",
       "         0.1228459 ],\n",
       "       [19.43536   , 17.70268   , 16.91565   , 16.58327   , 16.39128   ,\n",
       "         0.        ],\n",
       "       ...,\n",
       "       [18.62718   , 17.30876   , 16.87371   , 16.62399   , 16.42296   ,\n",
       "         0.05442934],\n",
       "       [19.5514    , 18.27711   , 17.62101   , 17.21947   , 17.03347   ,\n",
       "         0.1125709 ],\n",
       "       [18.80772   , 17.75751   , 17.405     , 17.2165    , 17.12295   ,\n",
       "         0.04365238]])"
      ]
     },
     "execution_count": 6,
     "metadata": {},
     "output_type": "execute_result"
    }
   ],
   "source": [
    "data"
   ]
  },
  {
   "cell_type": "code",
   "execution_count": 7,
   "id": "c8d3e7d7",
   "metadata": {},
   "outputs": [
    {
     "data": {
      "text/plain": [
       "{'u': array([18.97213, 19.24592, 19.43536, ..., 18.62718, 19.5514 , 18.80772]),\n",
       " 'g': array([18.53676, 17.47646, 17.70268, ..., 17.30876, 18.27711, 17.75751]),\n",
       " 'r': array([18.5828 , 16.47817, 16.91565, ..., 16.87371, 17.62101, 17.405  ]),\n",
       " 'i': array([18.34936, 16.04472, 16.58327, ..., 16.62399, 17.21947, 17.2165 ]),\n",
       " 'z': array([18.29215, 15.68851, 16.39128, ..., 16.42296, 17.03347, 17.12295]),\n",
       " 'z1': array([0.5228189 , 0.1228459 , 0.        , ..., 0.05442934, 0.1125709 ,\n",
       "        0.04365238])}"
      ]
     },
     "execution_count": 7,
     "metadata": {},
     "output_type": "execute_result"
    }
   ],
   "source": [
    "d = dict(zip(names, data.T))\n",
    "d"
   ]
  },
  {
   "cell_type": "code",
   "execution_count": 8,
   "id": "f2647248",
   "metadata": {},
   "outputs": [
    {
     "data": {
      "text/plain": [
       "array(['QSO', 'GALAXY', 'GALAXY', ..., 'GALAXY', 'GALAXY', 'GALAXY'],\n",
       "      dtype='<U6')"
      ]
     },
     "execution_count": 8,
     "metadata": {},
     "output_type": "execute_result"
    }
   ],
   "source": [
    "lab=np.genfromtxt('galaxyquasar.csv', delimiter=',',skip_header=1,usecols=5,dtype=str)\n",
    "lab"
   ]
  },
  {
   "cell_type": "code",
   "execution_count": 9,
   "id": "c1423e31",
   "metadata": {},
   "outputs": [
    {
     "data": {
      "text/plain": [
       "{'GALAXY', 'QSO'}"
      ]
     },
     "execution_count": 9,
     "metadata": {},
     "output_type": "execute_result"
    }
   ],
   "source": [
    "set(lab)"
   ]
  },
  {
   "cell_type": "code",
   "execution_count": 10,
   "id": "a4b83d6f",
   "metadata": {},
   "outputs": [],
   "source": [
    "for diff in ['ug', 'gr', 'ri', 'iz']:\n",
    "    d[diff]=d[diff[0]]-d[diff[1]] \n",
    "d['lab']=lab"
   ]
  },
  {
   "cell_type": "code",
   "execution_count": 11,
   "id": "c8fd303b",
   "metadata": {},
   "outputs": [
    {
     "data": {
      "text/plain": [
       "dict_keys(['u', 'g', 'r', 'i', 'z', 'z1', 'ug', 'gr', 'ri', 'iz', 'lab'])"
      ]
     },
     "execution_count": 11,
     "metadata": {},
     "output_type": "execute_result"
    }
   ],
   "source": [
    "d.keys()"
   ]
  },
  {
   "cell_type": "code",
   "execution_count": 13,
   "id": "740d3522",
   "metadata": {},
   "outputs": [],
   "source": [
    "X=np.array([d['ug'], d['gr'], d['ri'], d['iz']]).T\n",
    "y = np.array(lab=='QSO',dtype=int)"
   ]
  },
  {
   "cell_type": "markdown",
   "id": "f42a8d8c",
   "metadata": {},
   "source": [
    "## Analysis"
   ]
  },
  {
   "cell_type": "code",
   "execution_count": 120,
   "id": "678dc1ca",
   "metadata": {},
   "outputs": [],
   "source": [
    "from sklearn.model_selection import train_test_split\n",
    "\n",
    "X_train, X_test, y_train, y_test = train_test_split(X, y, test_size=0.3, random_state=42)"
   ]
  },
  {
   "cell_type": "code",
   "execution_count": 121,
   "id": "dae859db",
   "metadata": {},
   "outputs": [
    {
     "name": "stdout",
     "output_type": "stream",
     "text": [
      "['QSO' 'GALAXY' 'GALAXY' ... 'GALAXY' 'GALAXY' 'GALAXY']\n"
     ]
    }
   ],
   "source": [
    "class_names = lab\n",
    "print(class_names)"
   ]
  },
  {
   "cell_type": "code",
   "execution_count": 122,
   "id": "c1e128b9",
   "metadata": {},
   "outputs": [
    {
     "name": "stdout",
     "output_type": "stream",
     "text": [
      "35000\n",
      "(35000, 4)\n",
      "(15000, 4)\n"
     ]
    }
   ],
   "source": [
    "print(len(X_train))\n",
    "print(X_train.shape)\n",
    "print(X_test.shape)"
   ]
  },
  {
   "cell_type": "code",
   "execution_count": 123,
   "id": "236f0047",
   "metadata": {},
   "outputs": [],
   "source": [
    "from tensorflow import keras\n",
    "\n",
    "model = keras.Sequential([\n",
    "            keras.layers.InputLayer(input_shape=np.shape(X_train[1])),\n",
    "            # Hidden layers\n",
    "            keras.layers.Dense(8,  activation='relu'),\n",
    "            keras.layers.Dense(4,  activation='relu'),\n",
    "            # Output layer, do not change\n",
    "            keras.layers.Dense(1, activation='sigmoid')])"
   ]
  },
  {
   "cell_type": "markdown",
   "id": "38b21631",
   "metadata": {},
   "source": [
    "Wanted learning rate, $\\eta = 0.001$"
   ]
  },
  {
   "cell_type": "code",
   "execution_count": 124,
   "id": "d3b5ac3d",
   "metadata": {},
   "outputs": [],
   "source": [
    "model.compile(\n",
    "            # Optimization algorithm, specify learning rate\n",
    "            optimizer=keras.optimizers.Adam(learning_rate=1e-3),\n",
    "            # Loss function for a binary classifier\n",
    "            loss='binary_crossentropy',\n",
    "            # Diagnostic quantities\n",
    "            metrics=['accuracy'])"
   ]
  },
  {
   "cell_type": "code",
   "execution_count": 125,
   "id": "28b89e12",
   "metadata": {},
   "outputs": [
    {
     "name": "stdout",
     "output_type": "stream",
     "text": [
      "1094/1094 [==============================] - 1s 683us/step - loss: 0.2365 - accuracy: 0.8856\n"
     ]
    }
   ],
   "source": [
    "model.compile(optimizer=keras.optimizers.Adam(learning_rate=1e-3),\n",
    "              loss='binary_crossentropy',\n",
    "              metrics=['accuracy'])\n",
    "\n",
    "clf = model.fit(X_train, y_train, epochs=1)"
   ]
  },
  {
   "cell_type": "code",
   "execution_count": 126,
   "id": "9ec569d9",
   "metadata": {},
   "outputs": [
    {
     "name": "stdout",
     "output_type": "stream",
     "text": [
      "469/469 [==============================] - 0s 556us/step - loss: 0.0963 - accuracy: 0.9795\n"
     ]
    },
    {
     "data": {
      "text/plain": [
       "[0.09630680829286575, 0.9794666767120361]"
      ]
     },
     "execution_count": 126,
     "metadata": {},
     "output_type": "execute_result"
    }
   ],
   "source": [
    "model.evaluate(X_test, y_test)"
   ]
  },
  {
   "cell_type": "code",
   "execution_count": 127,
   "id": "51647c29",
   "metadata": {},
   "outputs": [
    {
     "name": "stdout",
     "output_type": "stream",
     "text": [
      "469/469 [==============================] - 0s 442us/step\n",
      "[[0.02]\n",
      " [0.01]\n",
      " [0.81]\n",
      " ...\n",
      " [0.  ]\n",
      " [0.  ]\n",
      " [0.  ]]\n"
     ]
    }
   ],
   "source": [
    "y_proba = model.predict(X_test).round(2)\n",
    "print(y_proba)"
   ]
  },
  {
   "cell_type": "code",
   "execution_count": 128,
   "id": "653fce5f",
   "metadata": {},
   "outputs": [
    {
     "name": "stdout",
     "output_type": "stream",
     "text": [
      "['QSO' 'QSO' 'GALAXY' ... 'QSO' 'QSO' 'QSO']\n"
     ]
    }
   ],
   "source": [
    "y_pred = np.array(np.squeeze(y_proba)>0.5).astype(int)\n",
    "pred_names = np.array(class_names)[y_pred]\n",
    "print(pred_names)"
   ]
  },
  {
   "cell_type": "code",
   "execution_count": 129,
   "id": "fe67fee3",
   "metadata": {},
   "outputs": [
    {
     "data": {
      "image/png": "[encoded data removed]",
      "text/plain": [
       "<Figure size 640x480 with 1 Axes>"
      ]
     },
     "metadata": {},
     "output_type": "display_data"
    }
   ],
   "source": [
    "plt.hist(d['ug'][lab=='QSO'],histtype='step',bins=np.linspace(0,3,100),density=True)\n",
    "plt.hist(d['ug'][lab=='GALAXY'],histtype='step',bins=np.linspace(0,3,100),density=True);"
   ]
  },
  {
   "cell_type": "code",
   "execution_count": 133,
   "id": "d8543a6a",
   "metadata": {},
   "outputs": [
    {
     "name": "stdout",
     "output_type": "stream",
     "text": [
      "[0.28725 0.07073 0.05875 ... 0.28883 0.38083 0.11429]\n"
     ]
    }
   ],
   "source": [
    "qso_data = X_test[:,0][pred_names=='GALAXY']\n",
    "print(qso_data)"
   ]
  },
  {
   "cell_type": "code",
   "execution_count": 134,
   "id": "ed044cd7",
   "metadata": {},
   "outputs": [
    {
     "name": "stdout",
     "output_type": "stream",
     "text": [
      "[1.17384 1.5603  1.22792 ... 1.86697 1.87909 1.78075]\n"
     ]
    }
   ],
   "source": [
    "gal_data = X_test[:,0][pred_names=='QSO']\n",
    "print(gal_data)"
   ]
  },
  {
   "cell_type": "code",
   "execution_count": 136,
   "id": "80af8f1a",
   "metadata": {},
   "outputs": [
    {
     "data": {
      "image/png": "[encoded data removed]",
      "text/plain": [
       "<Figure size 640x480 with 1 Axes>"
      ]
     },
     "metadata": {},
     "output_type": "display_data"
    }
   ],
   "source": [
    "plt.hist(qso_data,histtype='step',bins=np.linspace(0,3,100),density=True)\n",
    "plt.hist(gal_data,histtype='step',bins=np.linspace(0,3,100),density=True);"
   ]
  },
  {
   "cell_type": "code",
   "execution_count": 138,
   "id": "a6e90378",
   "metadata": {},
   "outputs": [
    {
     "name": "stdout",
     "output_type": "stream",
     "text": [
      "1563/1563 [==============================] - 1s 506us/step\n",
      "['GALAXY' 'QSO' 'QSO' ... 'QSO' 'QSO' 'QSO']\n"
     ]
    },
    {
     "data": {
      "image/png": "[encoded data removed]",
      "text/plain": [
       "<Figure size 640x480 with 1 Axes>"
      ]
     },
     "metadata": {},
     "output_type": "display_data"
    }
   ],
   "source": [
    "y_proba = model.predict(X).round(2)\n",
    "\n",
    "y_pred = np.array(np.squeeze(y_proba)>0.5).astype(int)\n",
    "pred_names = np.array(class_names)[y_pred]\n",
    "print(pred_names)\n",
    "\n",
    "\n",
    "qso_data_1 = X[:,0][pred_names=='GALAXY']\n",
    "gal_data_1 = X[:,0][pred_names=='QSO']\n",
    "\n",
    "plt.hist(qso_data_1,histtype='step',bins=np.linspace(0,3,100),density=True)\n",
    "plt.hist(gal_data_1,histtype='step',bins=np.linspace(0,3,100),density=True);"
   ]
  },
  {
   "cell_type": "code",
   "execution_count": 139,
   "id": "213f4f92",
   "metadata": {},
   "outputs": [
    {
     "data": {
      "image/png": "[encoded data removed]",
      "text/plain": [
       "<Figure size 640x480 with 1 Axes>"
      ]
     },
     "metadata": {},
     "output_type": "display_data"
    }
   ],
   "source": [
    "plt.hist(qso_data,histtype='step',bins=np.linspace(0,3,100),density=True)\n",
    "plt.hist(gal_data,histtype='step',bins=np.linspace(0,3,100),density=True);"
   ]
  }
 ],
 "metadata": {
  "kernelspec": {
   "display_name": "Python 3 (ipykernel)",
   "language": "python",
   "name": "python3"
  },
  "language_info": {
   "codemirror_mode": {
    "name": "ipython",
    "version": 3
   },
   "file_extension": ".py",
   "mimetype": "text/x-python",
   "name": "python",
   "nbconvert_exporter": "python",
   "pygments_lexer": "ipython3",
   "version": "3.10.10"
  }
 },
 "nbformat": 4,
 "nbformat_minor": 5
}
