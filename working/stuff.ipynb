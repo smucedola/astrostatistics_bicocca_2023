{
 "cells": [
  {
   "cell_type": "code",
   "execution_count": null,
   "id": "dde2691e",
   "metadata": {},
   "outputs": [],
   "source": [
    "# inset axes....\n",
    "axin = ax.inset_axes([0.5, 0.5, 0.47, 0.47])\n",
    "# subregion of the original image\n",
    "x1, x2, y1, y2 = 0, int(1e5), 10, 500\n",
    "axin.set_xlim(x1, x2)\n",
    "axin.set_ylim(y1, y2)\n",
    "axin.set_xticklabels([])\n",
    "axin.set_yticklabels([])\n",
    "axin.plot(n[x1:x2], err[0:1000])\n",
    "\n",
    "ax.indicate_inset_zoom(axin, edgecolor=\"black\");"
   ]
  }
 ],
 "metadata": {
  "kernelspec": {
   "display_name": "Python 3 (ipykernel)",
   "language": "python",
   "name": "python3"
  },
  "language_info": {
   "codemirror_mode": {
    "name": "ipython",
    "version": 3
   },
   "file_extension": ".py",
   "mimetype": "text/x-python",
   "name": "python",
   "nbconvert_exporter": "python",
   "pygments_lexer": "ipython3",
   "version": "3.10.9"
  }
 },
 "nbformat": 4,
 "nbformat_minor": 5
}
